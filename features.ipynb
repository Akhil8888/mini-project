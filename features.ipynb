{
  "nbformat": 4,
  "nbformat_minor": 0,
  "metadata": {
    "colab": {
      "name": "features.ipynb",
      "provenance": [],
      "collapsed_sections": []
    },
    "kernelspec": {
      "name": "python3",
      "display_name": "Python 3"
    },
    "language_info": {
      "name": "python"
    }
  },
  "cells": [
    {
      "cell_type": "markdown",
      "source": [
        "**tfifd**"
      ],
      "metadata": {
        "id": "GH6B-RBPMM21"
      }
    },
    {
      "cell_type": "code",
      "source": [
        ""
      ],
      "metadata": {
        "id": "eZhwmOS7Ojak"
      },
      "execution_count": null,
      "outputs": []
    },
    {
      "cell_type": "code",
      "source": [
        ""
      ],
      "metadata": {
        "id": "ZqzSJJXJOjw2"
      },
      "execution_count": null,
      "outputs": []
    },
    {
      "cell_type": "code",
      "source": [
        "from sklearn.feature_extraction.text import TfidfVectorizer"
      ],
      "metadata": {
        "id": "dCFuBx5DNN5P"
      },
      "execution_count": null,
      "outputs": []
    },
    {
      "cell_type": "code",
      "source": [
        "tfidf =TfidfVectorizer()\n",
        "doc_1=\"aww yeah it's all good bing bong bing bong\"\n",
        "doc_2=\"Might have a better chance if we put some trash cans out there.\""
      ],
      "metadata": {
        "id": "4QsDaO02Nxy_"
      },
      "execution_count": null,
      "outputs": []
    },
    {
      "cell_type": "code",
      "source": [
        "response=tfidf.fit_transform([doc_1,doc_2])"
      ],
      "metadata": {
        "id": "V1OtU38POABO"
      },
      "execution_count": null,
      "outputs": []
    },
    {
      "cell_type": "code",
      "source": [
        "print(len(tfidf.vocabulary_))"
      ],
      "metadata": {
        "colab": {
          "base_uri": "https://localhost:8080/"
        },
        "id": "QAsXnVElOKxz",
        "outputId": "d3880f30-9cd3-4625-8224-48b6c61786c3"
      },
      "execution_count": null,
      "outputs": [
        {
          "output_type": "stream",
          "name": "stdout",
          "text": [
            "19\n"
          ]
        }
      ]
    },
    {
      "cell_type": "code",
      "source": [
        "tfidf.vocabulary_"
      ],
      "metadata": {
        "colab": {
          "base_uri": "https://localhost:8080/"
        },
        "id": "C4b9p7GTOQbZ",
        "outputId": "d24f00b1-9649-4f4c-dd98-d9a17021dd3d"
      },
      "execution_count": null,
      "outputs": [
        {
          "output_type": "execute_result",
          "data": {
            "text/plain": [
              "{'all': 0,\n",
              " 'aww': 1,\n",
              " 'better': 2,\n",
              " 'bing': 3,\n",
              " 'bong': 4,\n",
              " 'cans': 5,\n",
              " 'chance': 6,\n",
              " 'good': 7,\n",
              " 'have': 8,\n",
              " 'if': 9,\n",
              " 'it': 10,\n",
              " 'might': 11,\n",
              " 'out': 12,\n",
              " 'put': 13,\n",
              " 'some': 14,\n",
              " 'there': 15,\n",
              " 'trash': 16,\n",
              " 'we': 17,\n",
              " 'yeah': 18}"
            ]
          },
          "metadata": {},
          "execution_count": 9
        }
      ]
    },
    {
      "cell_type": "code",
      "source": [
        "print(response)"
      ],
      "metadata": {
        "colab": {
          "base_uri": "https://localhost:8080/"
        },
        "id": "pvy2i6CXOY02",
        "outputId": "ecf4ff44-66a5-4067-a85e-c151839e5186"
      },
      "execution_count": null,
      "outputs": [
        {
          "output_type": "stream",
          "name": "stdout",
          "text": [
            "  (0, 4)\t0.5547001962252293\n",
            "  (0, 3)\t0.5547001962252293\n",
            "  (0, 7)\t0.27735009811261463\n",
            "  (0, 0)\t0.27735009811261463\n",
            "  (0, 10)\t0.27735009811261463\n",
            "  (0, 18)\t0.27735009811261463\n",
            "  (0, 1)\t0.27735009811261463\n",
            "  (1, 15)\t0.28867513459481287\n",
            "  (1, 12)\t0.28867513459481287\n",
            "  (1, 5)\t0.28867513459481287\n",
            "  (1, 16)\t0.28867513459481287\n",
            "  (1, 14)\t0.28867513459481287\n",
            "  (1, 13)\t0.28867513459481287\n",
            "  (1, 17)\t0.28867513459481287\n",
            "  (1, 9)\t0.28867513459481287\n",
            "  (1, 6)\t0.28867513459481287\n",
            "  (1, 2)\t0.28867513459481287\n",
            "  (1, 8)\t0.28867513459481287\n",
            "  (1, 11)\t0.28867513459481287\n"
          ]
        }
      ]
    },
    {
      "cell_type": "markdown",
      "source": [
        "Sentiment **analysis**"
      ],
      "metadata": {
        "id": "bgFfw07YMqhn"
      }
    },
    {
      "cell_type": "code",
      "source": [
        "from textblob import TextBlob"
      ],
      "metadata": {
        "id": "HXRmftPmMuIZ"
      },
      "execution_count": null,
      "outputs": []
    },
    {
      "cell_type": "code",
      "source": [
        "feedback1=\"he seems like a rude guy \"\n",
        "feedback2=\"he is very good guy \"\n",
        "blob1=TextBlob(feedback1)\n",
        "blob2=TextBlob(feedback2)\n",
        "print(blob1.sentiment)\n",
        "print(blob2.sentiment)"
      ],
      "metadata": {
        "colab": {
          "base_uri": "https://localhost:8080/"
        },
        "id": "7c6c6vgNM1Fi",
        "outputId": "519337f5-65de-497d-edce-8e21703adb10"
      },
      "execution_count": null,
      "outputs": [
        {
          "output_type": "stream",
          "name": "stdout",
          "text": [
            "Sentiment(polarity=-0.3, subjectivity=0.6)\n",
            "Sentiment(polarity=0.9099999999999999, subjectivity=0.7800000000000001)\n"
          ]
        }
      ]
    },
    {
      "cell_type": "code",
      "source": [
        ""
      ],
      "metadata": {
        "id": "ZrGHpXNmNHcY"
      },
      "execution_count": null,
      "outputs": []
    },
    {
      "cell_type": "markdown",
      "source": [
        "**N GRAMS**"
      ],
      "metadata": {
        "id": "siRvcRgVGTJS"
      }
    },
    {
      "cell_type": "code",
      "source": [
        "from sklearn.feature_extraction.text import CountVectorizer\n",
        "import pandas as pd\n",
        "\n",
        "cv = CountVectorizer(ngram_range=(2,2))\n",
        "\n",
        "corpus = [\"he bought me a brownie shake lovehim\",\n",
        "          \"he seems like a nice guy\",\n",
        "          \"its gonna be a new day new start\"]\n",
        "\n",
        "\n",
        "X =cv.fit_transform(corpus)\n",
        "#X = cv.fit_transform(corpus)\n",
        "print(X.shape)\n",
        "print(X)\n",
        "\n",
        "print(X.toarray())\n",
        "\n",
        "\n",
        "df = pd.DataFrame(X.toarray(), columns = cv.get_feature_names())\n",
        "print(df)"
      ],
      "metadata": {
        "colab": {
          "base_uri": "https://localhost:8080/"
        },
        "id": "JgW2yy6FGWKu",
        "outputId": "da020b1d-f762-4405-e99e-3e3e15bccae2"
      },
      "execution_count": null,
      "outputs": [
        {
          "output_type": "stream",
          "name": "stdout",
          "text": [
            "(3, 15)\n",
            "  (0, 5)\t1\n",
            "  (0, 1)\t1\n",
            "  (0, 9)\t1\n",
            "  (0, 2)\t1\n",
            "  (0, 14)\t1\n",
            "  (1, 6)\t1\n",
            "  (1, 13)\t1\n",
            "  (1, 8)\t1\n",
            "  (1, 12)\t1\n",
            "  (2, 7)\t1\n",
            "  (2, 4)\t1\n",
            "  (2, 0)\t1\n",
            "  (2, 10)\t1\n",
            "  (2, 3)\t1\n",
            "  (2, 11)\t1\n",
            "[[0 1 1 0 0 1 0 0 0 1 0 0 0 0 1]\n",
            " [0 0 0 0 0 0 1 0 1 0 0 0 1 1 0]\n",
            " [1 0 0 1 1 0 0 1 0 0 1 1 0 0 0]]\n",
            "   be new  bought me  brownie shake  ...  nice guy  seems like  shake lovehim\n",
            "0       0          1              1  ...         0           0              1\n",
            "1       0          0              0  ...         1           1              0\n",
            "2       1          0              0  ...         0           0              0\n",
            "\n",
            "[3 rows x 15 columns]\n"
          ]
        },
        {
          "output_type": "stream",
          "name": "stderr",
          "text": [
            "/usr/local/lib/python3.7/dist-packages/sklearn/utils/deprecation.py:87: FutureWarning: Function get_feature_names is deprecated; get_feature_names is deprecated in 1.0 and will be removed in 1.2. Please use get_feature_names_out instead.\n",
            "  warnings.warn(msg, category=FutureWarning)\n"
          ]
        }
      ]
    },
    {
      "cell_type": "markdown",
      "source": [
        "**BOW**"
      ],
      "metadata": {
        "id": "l7k3G8A9GzQR"
      }
    },
    {
      "cell_type": "code",
      "source": [
        "from sklearn.feature_extraction.text import CountVectorizer\n",
        "import pandas as pd\n",
        " \n",
        "text = \"\"\"there was a man .\n",
        "The man had a dog.\n",
        " The dog and the man walked.\"\"\"\n",
        "count_vectorizer=CountVectorizer()\n",
        "bow=count_vectorizer.fit_transform(text.splitlines())\n",
        "#print(count_vectorizer)\n",
        "pd.DataFrame(bow.toarray(),columns=count_vectorizer.get_feature_names())\n"
      ],
      "metadata": {
        "colab": {
          "base_uri": "https://localhost:8080/",
          "height": 198
        },
        "id": "T15KlkSAHAyI",
        "outputId": "b615c142-5823-4a4c-ca44-4c7ad94a0f69"
      },
      "execution_count": null,
      "outputs": [
        {
          "output_type": "stream",
          "name": "stderr",
          "text": [
            "/usr/local/lib/python3.7/dist-packages/sklearn/utils/deprecation.py:87: FutureWarning: Function get_feature_names is deprecated; get_feature_names is deprecated in 1.0 and will be removed in 1.2. Please use get_feature_names_out instead.\n",
            "  warnings.warn(msg, category=FutureWarning)\n"
          ]
        },
        {
          "output_type": "execute_result",
          "data": {
            "text/html": [
              "\n",
              "  <div id=\"df-2156494e-9b58-48fe-a8d9-61df594e4c04\">\n",
              "    <div class=\"colab-df-container\">\n",
              "      <div>\n",
              "<style scoped>\n",
              "    .dataframe tbody tr th:only-of-type {\n",
              "        vertical-align: middle;\n",
              "    }\n",
              "\n",
              "    .dataframe tbody tr th {\n",
              "        vertical-align: top;\n",
              "    }\n",
              "\n",
              "    .dataframe thead th {\n",
              "        text-align: right;\n",
              "    }\n",
              "</style>\n",
              "<table border=\"1\" class=\"dataframe\">\n",
              "  <thead>\n",
              "    <tr style=\"text-align: right;\">\n",
              "      <th></th>\n",
              "      <th>and</th>\n",
              "      <th>dog</th>\n",
              "      <th>had</th>\n",
              "      <th>man</th>\n",
              "      <th>the</th>\n",
              "      <th>there</th>\n",
              "      <th>walked</th>\n",
              "      <th>was</th>\n",
              "    </tr>\n",
              "  </thead>\n",
              "  <tbody>\n",
              "    <tr>\n",
              "      <th>0</th>\n",
              "      <td>0</td>\n",
              "      <td>0</td>\n",
              "      <td>0</td>\n",
              "      <td>1</td>\n",
              "      <td>0</td>\n",
              "      <td>1</td>\n",
              "      <td>0</td>\n",
              "      <td>1</td>\n",
              "    </tr>\n",
              "    <tr>\n",
              "      <th>1</th>\n",
              "      <td>0</td>\n",
              "      <td>1</td>\n",
              "      <td>1</td>\n",
              "      <td>1</td>\n",
              "      <td>1</td>\n",
              "      <td>0</td>\n",
              "      <td>0</td>\n",
              "      <td>0</td>\n",
              "    </tr>\n",
              "    <tr>\n",
              "      <th>2</th>\n",
              "      <td>1</td>\n",
              "      <td>1</td>\n",
              "      <td>0</td>\n",
              "      <td>1</td>\n",
              "      <td>2</td>\n",
              "      <td>0</td>\n",
              "      <td>1</td>\n",
              "      <td>0</td>\n",
              "    </tr>\n",
              "  </tbody>\n",
              "</table>\n",
              "</div>\n",
              "      <button class=\"colab-df-convert\" onclick=\"convertToInteractive('df-2156494e-9b58-48fe-a8d9-61df594e4c04')\"\n",
              "              title=\"Convert this dataframe to an interactive table.\"\n",
              "              style=\"display:none;\">\n",
              "        \n",
              "  <svg xmlns=\"http://www.w3.org/2000/svg\" height=\"24px\"viewBox=\"0 0 24 24\"\n",
              "       width=\"24px\">\n",
              "    <path d=\"M0 0h24v24H0V0z\" fill=\"none\"/>\n",
              "    <path d=\"M18.56 5.44l.94 2.06.94-2.06 2.06-.94-2.06-.94-.94-2.06-.94 2.06-2.06.94zm-11 1L8.5 8.5l.94-2.06 2.06-.94-2.06-.94L8.5 2.5l-.94 2.06-2.06.94zm10 10l.94 2.06.94-2.06 2.06-.94-2.06-.94-.94-2.06-.94 2.06-2.06.94z\"/><path d=\"M17.41 7.96l-1.37-1.37c-.4-.4-.92-.59-1.43-.59-.52 0-1.04.2-1.43.59L10.3 9.45l-7.72 7.72c-.78.78-.78 2.05 0 2.83L4 21.41c.39.39.9.59 1.41.59.51 0 1.02-.2 1.41-.59l7.78-7.78 2.81-2.81c.8-.78.8-2.07 0-2.86zM5.41 20L4 18.59l7.72-7.72 1.47 1.35L5.41 20z\"/>\n",
              "  </svg>\n",
              "      </button>\n",
              "      \n",
              "  <style>\n",
              "    .colab-df-container {\n",
              "      display:flex;\n",
              "      flex-wrap:wrap;\n",
              "      gap: 12px;\n",
              "    }\n",
              "\n",
              "    .colab-df-convert {\n",
              "      background-color: #E8F0FE;\n",
              "      border: none;\n",
              "      border-radius: 50%;\n",
              "      cursor: pointer;\n",
              "      display: none;\n",
              "      fill: #1967D2;\n",
              "      height: 32px;\n",
              "      padding: 0 0 0 0;\n",
              "      width: 32px;\n",
              "    }\n",
              "\n",
              "    .colab-df-convert:hover {\n",
              "      background-color: #E2EBFA;\n",
              "      box-shadow: 0px 1px 2px rgba(60, 64, 67, 0.3), 0px 1px 3px 1px rgba(60, 64, 67, 0.15);\n",
              "      fill: #174EA6;\n",
              "    }\n",
              "\n",
              "    [theme=dark] .colab-df-convert {\n",
              "      background-color: #3B4455;\n",
              "      fill: #D2E3FC;\n",
              "    }\n",
              "\n",
              "    [theme=dark] .colab-df-convert:hover {\n",
              "      background-color: #434B5C;\n",
              "      box-shadow: 0px 1px 3px 1px rgba(0, 0, 0, 0.15);\n",
              "      filter: drop-shadow(0px 1px 2px rgba(0, 0, 0, 0.3));\n",
              "      fill: #FFFFFF;\n",
              "    }\n",
              "  </style>\n",
              "\n",
              "      <script>\n",
              "        const buttonEl =\n",
              "          document.querySelector('#df-2156494e-9b58-48fe-a8d9-61df594e4c04 button.colab-df-convert');\n",
              "        buttonEl.style.display =\n",
              "          google.colab.kernel.accessAllowed ? 'block' : 'none';\n",
              "\n",
              "        async function convertToInteractive(key) {\n",
              "          const element = document.querySelector('#df-2156494e-9b58-48fe-a8d9-61df594e4c04');\n",
              "          const dataTable =\n",
              "            await google.colab.kernel.invokeFunction('convertToInteractive',\n",
              "                                                     [key], {});\n",
              "          if (!dataTable) return;\n",
              "\n",
              "          const docLinkHtml = 'Like what you see? Visit the ' +\n",
              "            '<a target=\"_blank\" href=https://colab.research.google.com/notebooks/data_table.ipynb>data table notebook</a>'\n",
              "            + ' to learn more about interactive tables.';\n",
              "          element.innerHTML = '';\n",
              "          dataTable['output_type'] = 'display_data';\n",
              "          await google.colab.output.renderOutput(dataTable, element);\n",
              "          const docLink = document.createElement('div');\n",
              "          docLink.innerHTML = docLinkHtml;\n",
              "          element.appendChild(docLink);\n",
              "        }\n",
              "      </script>\n",
              "    </div>\n",
              "  </div>\n",
              "  "
            ],
            "text/plain": [
              "   and  dog  had  man  the  there  walked  was\n",
              "0    0    0    0    1    0      1       0    1\n",
              "1    0    1    1    1    1      0       0    0\n",
              "2    1    1    0    1    2      0       1    0"
            ]
          },
          "metadata": {},
          "execution_count": 15
        }
      ]
    },
    {
      "cell_type": "markdown",
      "source": [
        ""
      ],
      "metadata": {
        "id": "S-TvRWIkJl4V"
      }
    },
    {
      "cell_type": "markdown",
      "source": [
        "**word2vec**"
      ],
      "metadata": {
        "id": "rssx8lLHJl-v"
      }
    },
    {
      "cell_type": "code",
      "source": [
        "from nltk import word_tokenize\n",
        "import tensorflow as tf\n",
        "from tensorflow.keras.preprocessing.text import Tokenizer"
      ],
      "metadata": {
        "id": "Yzzk0KfJJpA8"
      },
      "execution_count": null,
      "outputs": []
    },
    {
      "cell_type": "code",
      "source": [
        "x = [\"Done for the Yankees\", \"Happy birthday bird\"]\n",
        "y = [1,0]"
      ],
      "metadata": {
        "id": "Hxht5quYJrO6"
      },
      "execution_count": null,
      "outputs": []
    },
    {
      "cell_type": "code",
      "source": [
        "tokenizer = Tokenizer(num_words=20)"
      ],
      "metadata": {
        "id": "-CEHlRBJJtwJ"
      },
      "execution_count": null,
      "outputs": []
    },
    {
      "cell_type": "code",
      "source": [
        "tokenizer.fit_on_texts(x)"
      ],
      "metadata": {
        "id": "uzsFoMvRJv95"
      },
      "execution_count": null,
      "outputs": []
    },
    {
      "cell_type": "code",
      "source": [
        "sequences = tokenizer.texts_to_sequences(x)"
      ],
      "metadata": {
        "id": "E_bQtfs8JyGQ"
      },
      "execution_count": null,
      "outputs": []
    },
    {
      "cell_type": "code",
      "source": [
        "word_index = tokenizer.word_index\n",
        "print(tokenizer.word_index)\n",
        "print('Found %s unique tokens.' % len(word_index))"
      ],
      "metadata": {
        "colab": {
          "base_uri": "https://localhost:8080/"
        },
        "id": "nKD2-rUHJ3Cj",
        "outputId": "9026d1e9-5087-4f27-ab08-955ed659e836"
      },
      "execution_count": null,
      "outputs": [
        {
          "output_type": "stream",
          "name": "stdout",
          "text": [
            "{'done': 1, 'for': 2, 'the': 3, 'yankees': 4, 'happy': 5, 'birthday': 6, 'bird': 7}\n",
            "Found 7 unique tokens.\n"
          ]
        }
      ]
    },
    {
      "cell_type": "code",
      "source": [
        "print(sequences)"
      ],
      "metadata": {
        "colab": {
          "base_uri": "https://localhost:8080/"
        },
        "id": "CFbztuqyJ5GE",
        "outputId": "be8a5bff-07e0-4701-d0cd-2cacc87b093e"
      },
      "execution_count": null,
      "outputs": [
        {
          "output_type": "stream",
          "name": "stdout",
          "text": [
            "[[1, 2, 3, 4], [5, 6, 7]]\n"
          ]
        }
      ]
    },
    {
      "cell_type": "code",
      "source": [
        "max_length = 0\n",
        "for review_number in range(len(sequences)):\n",
        "  numberofwords=len(sequences[review_number])\n",
        "  if (numberofwords) > (max_length):\n",
        "    max_length = numberofwords\n",
        "print(max_length)"
      ],
      "metadata": {
        "colab": {
          "base_uri": "https://localhost:8080/"
        },
        "id": "vENExvZeJ7_K",
        "outputId": "2d58ff6c-5a45-494f-ae83-18c62cd9271b"
      },
      "execution_count": null,
      "outputs": [
        {
          "output_type": "stream",
          "name": "stdout",
          "text": [
            "4\n"
          ]
        }
      ]
    },
    {
      "cell_type": "code",
      "source": [
        "from tensorflow.keras.preprocessing.sequence import pad_sequences\n",
        "import numpy as np\n",
        "data = pad_sequences(sequences, maxlen=max_length)\n",
        "y = np.asarray(y)\n",
        "print(data)\n",
        "print('Shape of data tensor:', data.shape)"
      ],
      "metadata": {
        "colab": {
          "base_uri": "https://localhost:8080/"
        },
        "id": "gE-vM4aOJ8mn",
        "outputId": "b709120b-0511-4ec8-ace0-b81ed986057a"
      },
      "execution_count": null,
      "outputs": [
        {
          "output_type": "stream",
          "name": "stdout",
          "text": [
            "[[1 2 3 4]\n",
            " [0 5 6 7]]\n",
            "Shape of data tensor: (2, 4)\n"
          ]
        }
      ]
    },
    {
      "cell_type": "markdown",
      "source": [
        "**CountVectorizer**"
      ],
      "metadata": {
        "id": "CVX51U06aTKY"
      }
    },
    {
      "cell_type": "code",
      "source": [
        "\n",
        "from sklearn.feature_extraction.text import CountVectorizer\n",
        "  \n",
        "document = [\"well tom is a nice guy,\n",
        "            \"hai how are you how is your day going\",\n",
        "            \"iam fine all are going good\"]\n",
        "  \n",
        "# Create a Vectorizer Object\n",
        "vectorizer = CountVectorizer()\n",
        "  \n",
        "vectorizer.fit(document)\n",
        "  \n",
        "# Printing the identified Unique words along with their indices\n",
        "print(\"Vocabulary: \", vectorizer.vocabulary_)\n",
        "  \n",
        "# Encode the Document\n",
        "vector = vectorizer.transform(document)\n",
        "  \n",
        "# Summarizing the Encoded Texts\n",
        "print(\"Encoded Document is:\")\n",
        "print(vector.toarray())"
      ],
      "metadata": {
        "colab": {
          "base_uri": "https://localhost:8080/"
        },
        "id": "BsGTXfVeaa_D",
        "outputId": "456d8f4d-9305-4249-9821-cefd238e0450"
      },
      "execution_count": null,
      "outputs": [
        {
          "output_type": "stream",
          "name": "stdout",
          "text": [
            "Vocabulary:  {'have': 7, 'good': 5, 'day': 2, 'hai': 6, 'how': 8, 'are': 1, 'you': 11, 'is': 10, 'your': 12, 'going': 4, 'iam': 9, 'fine': 3, 'all': 0}\n",
            "Encoded Document is:\n",
            "[[0 0 1 0 0 1 0 1 0 0 0 0 0]\n",
            " [0 1 1 0 1 0 1 0 2 0 1 1 1]\n",
            " [1 1 0 1 1 1 0 0 0 1 0 0 0]]\n"
          ]
        }
      ]
    },
    {
      "cell_type": "markdown",
      "source": [
        ""
      ],
      "metadata": {
        "id": "fvKFg7YjaR2P"
      }
    }
  ]
}