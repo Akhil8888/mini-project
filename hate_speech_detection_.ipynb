{
  "nbformat": 4,
  "nbformat_minor": 0,
  "metadata": {
    "colab": {
      "name": "hate_speech_detection_.ipynb",
      "provenance": [],
      "collapsed_sections": []
    },
    "kernelspec": {
      "name": "python3",
      "display_name": "Python 3"
    },
    "language_info": {
      "name": "python"
    }
  },
  "cells": [
    {
      "cell_type": "markdown",
      "metadata": {
        "id": "KhR9vGKAxlYU"
      },
      "source": [
        "importing libraries"
      ]
    },
    {
      "cell_type": "code",
      "metadata": {
        "id": "nw2MiPLExc8G",
        "colab": {
          "base_uri": "https://localhost:8080/"
        },
        "outputId": "add75157-6572-40c0-a6f9-c06e49ccb63b"
      },
      "source": [
        "import pandas as pd\n",
        "import numpy as np\n",
        "import nltk\n",
        "nltk.download('wordnet')\n",
        "from sklearn.feature_extraction.text import CountVectorizer\n",
        "from wordcloud import WordCloud, STOPWORDS\n",
        "from nltk.stem import WordNetLemmatizer\n",
        "import re\n",
        "from imblearn.over_sampling import SMOTE\n",
        "from sklearn.model_selection import GridSearchCV"
      ],
      "execution_count": null,
      "outputs": [
        {
          "output_type": "stream",
          "name": "stdout",
          "text": [
            "[nltk_data] Downloading package wordnet to /root/nltk_data...\n",
            "[nltk_data]   Unzipping corpora/wordnet.zip.\n"
          ]
        }
      ]
    },
    {
      "cell_type": "markdown",
      "metadata": {
        "id": "-_PsL8UPy8w8"
      },
      "source": [
        "Loading dataset"
      ]
    },
    {
      "cell_type": "code",
      "metadata": {
        "id": "3kJ-fdshy8i8",
        "colab": {
          "base_uri": "https://localhost:8080/"
        },
        "outputId": "6ae08b8f-1157-4c20-d38d-3bde1a2a45d7"
      },
      "source": [
        "dataset=pd.read_csv('hate_speech_detection .csv')\n",
        "tweets=dataset.iloc[:,2].values\n",
        "test=[dataset.iloc[1,2]] #for checking the working of clean \n",
        "y=dataset.drop(['tweet','id'],axis='columns')\n",
        "y.value_counts()"
      ],
      "execution_count": null,
      "outputs": [
        {
          "output_type": "execute_result",
          "data": {
            "text/plain": [
              "label\n",
              "0        3000\n",
              "1        2242\n",
              "dtype: int64"
            ]
          },
          "metadata": {},
          "execution_count": 43
        }
      ]
    },
    {
      "cell_type": "markdown",
      "metadata": {
        "id": "uTtHSq-UzaKz"
      },
      "source": [
        "Cleaning text"
      ]
    },
    {
      "cell_type": "code",
      "metadata": {
        "colab": {
          "base_uri": "https://localhost:8080/"
        },
        "id": "ZqiPHn1czLBX",
        "outputId": "53bfe003-034e-4bc7-a441-494548382e31"
      },
      "source": [
        "def clean(text):\n",
        "  STOPWORDS.update({'is','the','of','to','on','so'})\n",
        "  clean_tweet=[]\n",
        "  for i in range(len(text)):\n",
        "    sample=re.sub(r'[^a-zA-Z\\n]',\" \",text[i])\n",
        "    sample=re.sub(r\"[.,'\\\"@#!?]\",\" \",sample)\n",
        "    sample=re.sub('user',\" \",sample)\n",
        "    sample=sample.lower()\n",
        "    sample=sample.split()\n",
        "    lm=WordNetLemmatizer()\n",
        "    for word in sample:\n",
        "      word=lm.lemmatize(word)\n",
        "    sample=list(set(sample)-STOPWORDS)\n",
        "    sample=\" \".join(sample)\n",
        "    clean_tweet.append(sample) \n",
        "  return clean_tweet\n",
        "type(clean(tweets))#Showing the 10 clean tweets from dataset "
      ],
      "execution_count": null,
      "outputs": [
        {
          "output_type": "execute_result",
          "data": {
            "text/plain": [
              "list"
            ]
          },
          "metadata": {},
          "execution_count": 44
        }
      ]
    },
    {
      "cell_type": "code",
      "metadata": {
        "id": "4VdLZpLkaDxN"
      },
      "source": [
        "def get_predicton(tweet):\n",
        "  lis=[[]]\n",
        "  lis[0].append(tweet)\n",
        "  tweet=lis\n",
        "  tweet=clean(tweet[0])\n",
        "  lol=cv.transform(clean(tweet))\n",
        "  pred=rf.predict(lol)\n",
        "  if pred[0]==1:\n",
        "    result='Toxic tweet'\n",
        "  else:\n",
        "    result='Non-Toxic tweet'\n",
        "\n",
        "  return result"
      ],
      "execution_count": null,
      "outputs": []
    },
    {
      "cell_type": "markdown",
      "metadata": {
        "id": "s6AdniWb__UU"
      },
      "source": [
        "Creating tokens"
      ]
    },
    {
      "cell_type": "code",
      "metadata": {
        "id": "2nCWNr5Y__Ar"
      },
      "source": [
        "cv=CountVectorizer(max_features=5000)\n",
        "x=cv.fit_transform(clean(tweets)).toarray()"
      ],
      "execution_count": null,
      "outputs": []
    },
    {
      "cell_type": "markdown",
      "source": [
        "Tackling imbalence in dataset"
      ],
      "metadata": {
        "id": "ES7fsPpMT0hT"
      }
    },
    {
      "cell_type": "code",
      "source": [
        "sm=SMOTE()\n",
        "x_sm,y_sm=sm.fit_resample(x,y)"
      ],
      "metadata": {
        "id": "42C6uUbkTznv"
      },
      "execution_count": null,
      "outputs": []
    },
    {
      "cell_type": "code",
      "source": [
        "y_sm=y_sm['label'].values #making it nd array to feed the model"
      ],
      "metadata": {
        "id": "9OGOsf5BUUkZ"
      },
      "execution_count": null,
      "outputs": []
    },
    {
      "cell_type": "markdown",
      "metadata": {
        "id": "HVnzQvHiBC8n"
      },
      "source": [
        "Splitting dataset in to test and training set"
      ]
    },
    {
      "cell_type": "code",
      "metadata": {
        "id": "BvFP38N72l2V",
        "colab": {
          "base_uri": "https://localhost:8080/"
        },
        "outputId": "3f45f131-7905-484c-858a-11cdb0ed5ece"
      },
      "source": [
        "from sklearn.model_selection import train_test_split\n",
        "xtrain,xtest,ytrain,ytest=train_test_split(x_sm,y_sm,test_size=0.3,random_state=0)\n",
        "type(ytrain)"
      ],
      "execution_count": null,
      "outputs": [
        {
          "output_type": "execute_result",
          "data": {
            "text/plain": [
              "numpy.ndarray"
            ]
          },
          "metadata": {},
          "execution_count": 50
        }
      ]
    },
    {
      "cell_type": "markdown",
      "metadata": {
        "id": "pkFUAEuhBp58"
      },
      "source": [
        "Training model on training set"
      ]
    },
    {
      "cell_type": "code",
      "metadata": {
        "id": "vbLpfIbVBpki"
      },
      "source": [
        "from sklearn.ensemble import RandomForestClassifier\n",
        "rf=RandomForestClassifier(n_estimators=50,criterion='gini',max_features='log2') #best parameter from Grid search is used in this model\n",
        "rf.fit(xtrain,ytrain)\n",
        "ypred=rf.predict(xtest)"
      ],
      "execution_count": null,
      "outputs": []
    },
    {
      "cell_type": "markdown",
      "source": [
        "Grid Search with cross validation"
      ],
      "metadata": {
        "id": "1jDrKAPsrv_Q"
      }
    },
    {
      "cell_type": "code",
      "metadata": {
        "id": "HYh7fFjl2sQ8",
        "colab": {
          "base_uri": "https://localhost:8080/"
        },
        "outputId": "85b38322-6e18-435f-8b0a-cb7b6a57b5b4"
      },
      "source": [
        "param=[{\n",
        "    'n_estimators':[50,100,120],\n",
        "    'criterion':['gini','entropy'],\n",
        "    'max_features':['sqrt','log2','']}]\n",
        "gw=GridSearchCV(estimator=rf,param_grid=param,scoring='accuracy',cv=5)\n",
        "gw.fit(xtrain,ytrain)\n",
        "best_acc=gw.best_score_\n",
        "beat_param=gw.best_params_\n",
        "print('Best Accuracy: {:.2f} %'.format(best_acc*100) )\n",
        "print('best param:',beat_param )\n"
      ],
      "execution_count": null,
      "outputs": [
        {
          "output_type": "stream",
          "name": "stderr",
          "text": [
            "/usr/local/lib/python3.7/dist-packages/sklearn/model_selection/_validation.py:372: FitFailedWarning: \n",
            "30 fits failed out of a total of 90.\n",
            "The score on these train-test partitions for these parameters will be set to nan.\n",
            "If these failures are not expected, you can try to debug them by setting error_score='raise'.\n",
            "\n",
            "Below are more details about the failures:\n",
            "--------------------------------------------------------------------------------\n",
            "30 fits failed with the following error:\n",
            "Traceback (most recent call last):\n",
            "  File \"/usr/local/lib/python3.7/dist-packages/sklearn/model_selection/_validation.py\", line 681, in _fit_and_score\n",
            "    estimator.fit(X_train, y_train, **fit_params)\n",
            "  File \"/usr/local/lib/python3.7/dist-packages/sklearn/ensemble/_forest.py\", line 459, in fit\n",
            "    for i, t in enumerate(trees)\n",
            "  File \"/usr/local/lib/python3.7/dist-packages/joblib/parallel.py\", line 1043, in __call__\n",
            "    if self.dispatch_one_batch(iterator):\n",
            "  File \"/usr/local/lib/python3.7/dist-packages/joblib/parallel.py\", line 861, in dispatch_one_batch\n",
            "    self._dispatch(tasks)\n",
            "  File \"/usr/local/lib/python3.7/dist-packages/joblib/parallel.py\", line 779, in _dispatch\n",
            "    job = self._backend.apply_async(batch, callback=cb)\n",
            "  File \"/usr/local/lib/python3.7/dist-packages/joblib/_parallel_backends.py\", line 208, in apply_async\n",
            "    result = ImmediateResult(func)\n",
            "  File \"/usr/local/lib/python3.7/dist-packages/joblib/_parallel_backends.py\", line 572, in __init__\n",
            "    self.results = batch()\n",
            "  File \"/usr/local/lib/python3.7/dist-packages/joblib/parallel.py\", line 263, in __call__\n",
            "    for func, args, kwargs in self.items]\n",
            "  File \"/usr/local/lib/python3.7/dist-packages/joblib/parallel.py\", line 263, in <listcomp>\n",
            "    for func, args, kwargs in self.items]\n",
            "  File \"/usr/local/lib/python3.7/dist-packages/sklearn/utils/fixes.py\", line 211, in __call__\n",
            "    return self.function(*args, **kwargs)\n",
            "  File \"/usr/local/lib/python3.7/dist-packages/sklearn/ensemble/_forest.py\", line 185, in _parallel_build_trees\n",
            "    tree.fit(X, y, sample_weight=curr_sample_weight, check_input=False)\n",
            "  File \"/usr/local/lib/python3.7/dist-packages/sklearn/tree/_classes.py\", line 942, in fit\n",
            "    X_idx_sorted=X_idx_sorted,\n",
            "  File \"/usr/local/lib/python3.7/dist-packages/sklearn/tree/_classes.py\", line 282, in fit\n",
            "    \"Invalid value for max_features. \"\n",
            "ValueError: Invalid value for max_features. Allowed string values are 'auto', 'sqrt' or 'log2'.\n",
            "\n",
            "  warnings.warn(some_fits_failed_message, FitFailedWarning)\n",
            "/usr/local/lib/python3.7/dist-packages/sklearn/model_selection/_search.py:972: UserWarning: One or more of the test scores are non-finite: [0.82809524 0.82738095 0.82857143 0.84619048 0.8452381  0.8452381\n",
            "        nan        nan        nan 0.83333333 0.83166667 0.82666667\n",
            " 0.84619048 0.84880952 0.84619048        nan        nan        nan]\n",
            "  category=UserWarning,\n"
          ]
        },
        {
          "output_type": "stream",
          "name": "stdout",
          "text": [
            "Best Accuracy: 84.88 %\n",
            "best param: {'criterion': 'entropy', 'max_features': 'log2', 'n_estimators': 100}\n"
          ]
        }
      ]
    },
    {
      "cell_type": "markdown",
      "metadata": {
        "id": "zUWkxQYoCiN1"
      },
      "source": [
        "Checking accuracy"
      ]
    },
    {
      "cell_type": "code",
      "metadata": {
        "colab": {
          "base_uri": "https://localhost:8080/"
        },
        "id": "BYFwDVBjByqz",
        "outputId": "e4b143af-8649-4048-ccd2-027b106e53bc"
      },
      "source": [
        "from sklearn.metrics import classification_report\n",
        "print('Classification Report of the Random Forest model: \\n',classification_report(ytest,ypred))"
      ],
      "execution_count": null,
      "outputs": [
        {
          "output_type": "stream",
          "name": "stdout",
          "text": [
            "Classification Report of the Random Forest model: \n",
            "               precision    recall  f1-score   support\n",
            "\n",
            "           0       0.87      0.80      0.83       895\n",
            "           1       0.81      0.88      0.84       905\n",
            "\n",
            "    accuracy                           0.84      1800\n",
            "   macro avg       0.84      0.84      0.84      1800\n",
            "weighted avg       0.84      0.84      0.84      1800\n",
            "\n"
          ]
        }
      ]
    },
    {
      "cell_type": "markdown",
      "metadata": {
        "id": "OrcZcvdLfG3h"
      },
      "source": [
        "Testing model on a random tweet"
      ]
    },
    {
      "cell_type": "code",
      "metadata": {
        "colab": {
          "base_uri": "https://localhost:8080/"
        },
        "id": "R4Yp97MrfGnd",
        "outputId": "557982fc-5d8b-421e-9f6d-95e987b7e92b"
      },
      "source": [
        "print(get_predicton(\"@user when a father is dysfunctional and is so selfish he drags his kids into his dysfunction. #run\"))"
      ],
      "execution_count": null,
      "outputs": [
        {
          "output_type": "stream",
          "name": "stdout",
          "text": [
            "Non-Toxic tweet\n"
          ]
        }
      ]
    }
  ]
}